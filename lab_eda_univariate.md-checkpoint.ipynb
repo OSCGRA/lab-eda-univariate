{
 "cells": [
  {
   "cell_type": "code",
   "execution_count": 1,
   "id": "1feec2eb",
   "metadata": {},
   "outputs": [],
   "source": [
    "import pandas as pd #tratar datos en dataframes\n",
    "import matplotlib.pyplot as plt #visualización de datos\n",
    "import seaborn as sns #construido sobre matplotlib para visualizaciones\n",
    "import numpy as np #importa calculos numéricos\n",
    "\n",
    "%matplotlib inline"
   ]
  },
  {
   "cell_type": "code",
   "execution_count": 2,
   "id": "7c4362e8",
   "metadata": {},
   "outputs": [],
   "source": [
    "pd.set_option(\"display.max_columns\", None)"
   ]
  },
  {
   "cell_type": "code",
   "execution_count": 3,
   "id": "3a8d9abd",
   "metadata": {},
   "outputs": [],
   "source": [
    "data = pd.read_csv(\"amz_uk_price_prediction_dataset.csv\")"
   ]
  },
  {
   "cell_type": "code",
   "execution_count": 4,
   "id": "25f42286",
   "metadata": {},
   "outputs": [],
   "source": [
    "df = data.copy()"
   ]
  },
  {
   "cell_type": "code",
   "execution_count": 5,
   "id": "ffe736cd",
   "metadata": {},
   "outputs": [
    {
     "data": {
      "text/html": [
       "<div>\n",
       "<style scoped>\n",
       "    .dataframe tbody tr th:only-of-type {\n",
       "        vertical-align: middle;\n",
       "    }\n",
       "\n",
       "    .dataframe tbody tr th {\n",
       "        vertical-align: top;\n",
       "    }\n",
       "\n",
       "    .dataframe thead th {\n",
       "        text-align: right;\n",
       "    }\n",
       "</style>\n",
       "<table border=\"1\" class=\"dataframe\">\n",
       "  <thead>\n",
       "    <tr style=\"text-align: right;\">\n",
       "      <th></th>\n",
       "      <th>uid</th>\n",
       "      <th>asin</th>\n",
       "      <th>title</th>\n",
       "      <th>stars</th>\n",
       "      <th>reviews</th>\n",
       "      <th>price</th>\n",
       "      <th>isBestSeller</th>\n",
       "      <th>boughtInLastMonth</th>\n",
       "      <th>category</th>\n",
       "    </tr>\n",
       "  </thead>\n",
       "  <tbody>\n",
       "    <tr>\n",
       "      <th>1724264</th>\n",
       "      <td>1943519</td>\n",
       "      <td>B071V7XYCW</td>\n",
       "      <td>Kafton 100 Assorted Cable Ties Black Natural C...</td>\n",
       "      <td>4.2</td>\n",
       "      <td>131</td>\n",
       "      <td>3.39</td>\n",
       "      <td>False</td>\n",
       "      <td>0</td>\n",
       "      <td>Electrical</td>\n",
       "    </tr>\n",
       "    <tr>\n",
       "      <th>2352462</th>\n",
       "      <td>2710452</td>\n",
       "      <td>B095K7YBX5</td>\n",
       "      <td>Solar Lights Garden Lamps, LED Watering Can Li...</td>\n",
       "      <td>4.5</td>\n",
       "      <td>284</td>\n",
       "      <td>15.99</td>\n",
       "      <td>False</td>\n",
       "      <td>200</td>\n",
       "      <td>String Lights</td>\n",
       "    </tr>\n",
       "    <tr>\n",
       "      <th>1581590</th>\n",
       "      <td>1781626</td>\n",
       "      <td>B08GB1D6B2</td>\n",
       "      <td>Keep Calm and Love Grandma - Keyring</td>\n",
       "      <td>0.0</td>\n",
       "      <td>0</td>\n",
       "      <td>2.50</td>\n",
       "      <td>False</td>\n",
       "      <td>0</td>\n",
       "      <td>Handmade Clothing, Shoes &amp; Accessories</td>\n",
       "    </tr>\n",
       "    <tr>\n",
       "      <th>475111</th>\n",
       "      <td>510522</td>\n",
       "      <td>B0CJJGN3YC</td>\n",
       "      <td>Dinosaur And Bike Men's Crewneck Sweatshirt Lo...</td>\n",
       "      <td>0.0</td>\n",
       "      <td>0</td>\n",
       "      <td>21.99</td>\n",
       "      <td>False</td>\n",
       "      <td>0</td>\n",
       "      <td>Sports &amp; Outdoors</td>\n",
       "    </tr>\n",
       "    <tr>\n",
       "      <th>83480</th>\n",
       "      <td>90863</td>\n",
       "      <td>B07TR3822M</td>\n",
       "      <td>Appolab 61 in 1 Action Camera Accessories Kit ...</td>\n",
       "      <td>4.4</td>\n",
       "      <td>6459</td>\n",
       "      <td>47.36</td>\n",
       "      <td>False</td>\n",
       "      <td>0</td>\n",
       "      <td>Sports &amp; Outdoors</td>\n",
       "    </tr>\n",
       "    <tr>\n",
       "      <th>444134</th>\n",
       "      <td>477734</td>\n",
       "      <td>B07P92PW2S</td>\n",
       "      <td>Damart Men's Calecon Thermal Trousers</td>\n",
       "      <td>4.5</td>\n",
       "      <td>213</td>\n",
       "      <td>30.96</td>\n",
       "      <td>False</td>\n",
       "      <td>0</td>\n",
       "      <td>Sports &amp; Outdoors</td>\n",
       "    </tr>\n",
       "    <tr>\n",
       "      <th>665668</th>\n",
       "      <td>715049</td>\n",
       "      <td>B0CGCMGCC6</td>\n",
       "      <td>MOUMOUTEN Video Desk Lamp, Photography Clip on...</td>\n",
       "      <td>0.0</td>\n",
       "      <td>0</td>\n",
       "      <td>41.39</td>\n",
       "      <td>False</td>\n",
       "      <td>0</td>\n",
       "      <td>Flashes</td>\n",
       "    </tr>\n",
       "    <tr>\n",
       "      <th>1253914</th>\n",
       "      <td>1388628</td>\n",
       "      <td>B0B7XB66M7</td>\n",
       "      <td>True Face 100 Pack A4 Laminating Pouches Gloss...</td>\n",
       "      <td>4.3</td>\n",
       "      <td>5</td>\n",
       "      <td>12.99</td>\n",
       "      <td>False</td>\n",
       "      <td>0</td>\n",
       "      <td>Office Electronics</td>\n",
       "    </tr>\n",
       "    <tr>\n",
       "      <th>1275490</th>\n",
       "      <td>1411597</td>\n",
       "      <td>B0C8TJRZXC</td>\n",
       "      <td>UTUMAX Sporting Goods Inflatable Stand Up Padd...</td>\n",
       "      <td>0.0</td>\n",
       "      <td>0</td>\n",
       "      <td>522.90</td>\n",
       "      <td>False</td>\n",
       "      <td>0</td>\n",
       "      <td>Sports &amp; Outdoors</td>\n",
       "    </tr>\n",
       "    <tr>\n",
       "      <th>534710</th>\n",
       "      <td>577117</td>\n",
       "      <td>B0CJJVZJX8</td>\n",
       "      <td>BOOMJIU Long Sleeve Shirts with Sayings Classi...</td>\n",
       "      <td>0.0</td>\n",
       "      <td>0</td>\n",
       "      <td>10.87</td>\n",
       "      <td>False</td>\n",
       "      <td>0</td>\n",
       "      <td>Sports &amp; Outdoors</td>\n",
       "    </tr>\n",
       "  </tbody>\n",
       "</table>\n",
       "</div>"
      ],
      "text/plain": [
       "             uid        asin  \\\n",
       "1724264  1943519  B071V7XYCW   \n",
       "2352462  2710452  B095K7YBX5   \n",
       "1581590  1781626  B08GB1D6B2   \n",
       "475111    510522  B0CJJGN3YC   \n",
       "83480      90863  B07TR3822M   \n",
       "444134    477734  B07P92PW2S   \n",
       "665668    715049  B0CGCMGCC6   \n",
       "1253914  1388628  B0B7XB66M7   \n",
       "1275490  1411597  B0C8TJRZXC   \n",
       "534710    577117  B0CJJVZJX8   \n",
       "\n",
       "                                                     title  stars  reviews  \\\n",
       "1724264  Kafton 100 Assorted Cable Ties Black Natural C...    4.2      131   \n",
       "2352462  Solar Lights Garden Lamps, LED Watering Can Li...    4.5      284   \n",
       "1581590               Keep Calm and Love Grandma - Keyring    0.0        0   \n",
       "475111   Dinosaur And Bike Men's Crewneck Sweatshirt Lo...    0.0        0   \n",
       "83480    Appolab 61 in 1 Action Camera Accessories Kit ...    4.4     6459   \n",
       "444134               Damart Men's Calecon Thermal Trousers    4.5      213   \n",
       "665668   MOUMOUTEN Video Desk Lamp, Photography Clip on...    0.0        0   \n",
       "1253914  True Face 100 Pack A4 Laminating Pouches Gloss...    4.3        5   \n",
       "1275490  UTUMAX Sporting Goods Inflatable Stand Up Padd...    0.0        0   \n",
       "534710   BOOMJIU Long Sleeve Shirts with Sayings Classi...    0.0        0   \n",
       "\n",
       "          price  isBestSeller  boughtInLastMonth  \\\n",
       "1724264    3.39         False                  0   \n",
       "2352462   15.99         False                200   \n",
       "1581590    2.50         False                  0   \n",
       "475111    21.99         False                  0   \n",
       "83480     47.36         False                  0   \n",
       "444134    30.96         False                  0   \n",
       "665668    41.39         False                  0   \n",
       "1253914   12.99         False                  0   \n",
       "1275490  522.90         False                  0   \n",
       "534710    10.87         False                  0   \n",
       "\n",
       "                                       category  \n",
       "1724264                              Electrical  \n",
       "2352462                           String Lights  \n",
       "1581590  Handmade Clothing, Shoes & Accessories  \n",
       "475111                        Sports & Outdoors  \n",
       "83480                         Sports & Outdoors  \n",
       "444134                        Sports & Outdoors  \n",
       "665668                                  Flashes  \n",
       "1253914                      Office Electronics  \n",
       "1275490                       Sports & Outdoors  \n",
       "534710                        Sports & Outdoors  "
      ]
     },
     "execution_count": 5,
     "metadata": {},
     "output_type": "execute_result"
    }
   ],
   "source": [
    "df.sample(10)"
   ]
  },
  {
   "cell_type": "code",
   "execution_count": 6,
   "id": "6881cd12",
   "metadata": {},
   "outputs": [
    {
     "data": {
      "text/plain": [
       "(2443651, 9)"
      ]
     },
     "execution_count": 6,
     "metadata": {},
     "output_type": "execute_result"
    }
   ],
   "source": [
    "df.shape"
   ]
  },
  {
   "cell_type": "code",
   "execution_count": 7,
   "id": "8e243b0e",
   "metadata": {},
   "outputs": [],
   "source": [
    "df = df.dropna(how=\"all\")"
   ]
  },
  {
   "cell_type": "markdown",
   "id": "a0602599",
   "metadata": {},
   "source": [
    "### Part 1: Understanding Product Categories"
   ]
  },
  {
   "cell_type": "markdown",
   "id": "380c0e64",
   "metadata": {},
   "source": [
    "**Business Question**: What are the most popular product categories on Amazon UK, and how do they compare in terms of listing frequency?\n",
    "1. **Frequency Tables**:\n",
    "    - Generate a frequency table for the product `category`.\n",
    "    - Which are the top 5 most listed product categories?\n"
   ]
  },
  {
   "cell_type": "code",
   "execution_count": 8,
   "id": "ebd42623",
   "metadata": {},
   "outputs": [
    {
     "data": {
      "text/plain": [
       "Index(['uid', 'asin', 'title', 'stars', 'reviews', 'price', 'isBestSeller',\n",
       "       'boughtInLastMonth', 'category'],\n",
       "      dtype='object')"
      ]
     },
     "execution_count": 8,
     "metadata": {},
     "output_type": "execute_result"
    }
   ],
   "source": [
    "df.columns.unique()"
   ]
  },
  {
   "cell_type": "code",
   "execution_count": 9,
   "id": "ec0b2475",
   "metadata": {},
   "outputs": [
    {
     "data": {
      "text/html": [
       "<div>\n",
       "<style scoped>\n",
       "    .dataframe tbody tr th:only-of-type {\n",
       "        vertical-align: middle;\n",
       "    }\n",
       "\n",
       "    .dataframe tbody tr th {\n",
       "        vertical-align: top;\n",
       "    }\n",
       "\n",
       "    .dataframe thead th {\n",
       "        text-align: right;\n",
       "    }\n",
       "</style>\n",
       "<table border=\"1\" class=\"dataframe\">\n",
       "  <thead>\n",
       "    <tr style=\"text-align: right;\">\n",
       "      <th></th>\n",
       "      <th>category</th>\n",
       "      <th>proportion</th>\n",
       "    </tr>\n",
       "  </thead>\n",
       "  <tbody>\n",
       "    <tr>\n",
       "      <th>0</th>\n",
       "      <td>Sports &amp; Outdoors</td>\n",
       "      <td>0.342219</td>\n",
       "    </tr>\n",
       "    <tr>\n",
       "      <th>1</th>\n",
       "      <td>Beauty</td>\n",
       "      <td>0.007903</td>\n",
       "    </tr>\n",
       "    <tr>\n",
       "      <th>2</th>\n",
       "      <td>Handmade Clothing, Shoes &amp; Accessories</td>\n",
       "      <td>0.007869</td>\n",
       "    </tr>\n",
       "    <tr>\n",
       "      <th>3</th>\n",
       "      <td>Bath &amp; Body</td>\n",
       "      <td>0.007813</td>\n",
       "    </tr>\n",
       "    <tr>\n",
       "      <th>4</th>\n",
       "      <td>Birthday Gifts</td>\n",
       "      <td>0.007766</td>\n",
       "    </tr>\n",
       "    <tr>\n",
       "      <th>...</th>\n",
       "      <td>...</td>\n",
       "      <td>...</td>\n",
       "    </tr>\n",
       "    <tr>\n",
       "      <th>291</th>\n",
       "      <td>Alexa Built-In Devices</td>\n",
       "      <td>0.000044</td>\n",
       "    </tr>\n",
       "    <tr>\n",
       "      <th>292</th>\n",
       "      <td>Motorbike Chassis</td>\n",
       "      <td>0.000044</td>\n",
       "    </tr>\n",
       "    <tr>\n",
       "      <th>293</th>\n",
       "      <td>Plugs</td>\n",
       "      <td>0.000044</td>\n",
       "    </tr>\n",
       "    <tr>\n",
       "      <th>294</th>\n",
       "      <td>Smart Home Security &amp; Lighting</td>\n",
       "      <td>0.000043</td>\n",
       "    </tr>\n",
       "    <tr>\n",
       "      <th>295</th>\n",
       "      <td>Smart Speakers</td>\n",
       "      <td>0.000022</td>\n",
       "    </tr>\n",
       "  </tbody>\n",
       "</table>\n",
       "<p>296 rows × 2 columns</p>\n",
       "</div>"
      ],
      "text/plain": [
       "                                   category  proportion\n",
       "0                         Sports & Outdoors    0.342219\n",
       "1                                    Beauty    0.007903\n",
       "2    Handmade Clothing, Shoes & Accessories    0.007869\n",
       "3                               Bath & Body    0.007813\n",
       "4                            Birthday Gifts    0.007766\n",
       "..                                      ...         ...\n",
       "291                  Alexa Built-In Devices    0.000044\n",
       "292                       Motorbike Chassis    0.000044\n",
       "293                                   Plugs    0.000044\n",
       "294          Smart Home Security & Lighting    0.000043\n",
       "295                          Smart Speakers    0.000022\n",
       "\n",
       "[296 rows x 2 columns]"
      ]
     },
     "execution_count": 9,
     "metadata": {},
     "output_type": "execute_result"
    }
   ],
   "source": [
    "relative_frequency_table = df[\"category\"].value_counts(normalize=True).reset_index()\n",
    "relative_frequency_table"
   ]
  },
  {
   "cell_type": "code",
   "execution_count": 10,
   "id": "9e16d66b",
   "metadata": {},
   "outputs": [
    {
     "data": {
      "text/html": [
       "<div>\n",
       "<style scoped>\n",
       "    .dataframe tbody tr th:only-of-type {\n",
       "        vertical-align: middle;\n",
       "    }\n",
       "\n",
       "    .dataframe tbody tr th {\n",
       "        vertical-align: top;\n",
       "    }\n",
       "\n",
       "    .dataframe thead th {\n",
       "        text-align: right;\n",
       "    }\n",
       "</style>\n",
       "<table border=\"1\" class=\"dataframe\">\n",
       "  <thead>\n",
       "    <tr style=\"text-align: right;\">\n",
       "      <th></th>\n",
       "      <th>category</th>\n",
       "      <th>count</th>\n",
       "    </tr>\n",
       "  </thead>\n",
       "  <tbody>\n",
       "    <tr>\n",
       "      <th>0</th>\n",
       "      <td>Sports &amp; Outdoors</td>\n",
       "      <td>836265</td>\n",
       "    </tr>\n",
       "    <tr>\n",
       "      <th>1</th>\n",
       "      <td>Beauty</td>\n",
       "      <td>19312</td>\n",
       "    </tr>\n",
       "    <tr>\n",
       "      <th>2</th>\n",
       "      <td>Handmade Clothing, Shoes &amp; Accessories</td>\n",
       "      <td>19229</td>\n",
       "    </tr>\n",
       "    <tr>\n",
       "      <th>3</th>\n",
       "      <td>Bath &amp; Body</td>\n",
       "      <td>19092</td>\n",
       "    </tr>\n",
       "    <tr>\n",
       "      <th>4</th>\n",
       "      <td>Birthday Gifts</td>\n",
       "      <td>18978</td>\n",
       "    </tr>\n",
       "    <tr>\n",
       "      <th>...</th>\n",
       "      <td>...</td>\n",
       "      <td>...</td>\n",
       "    </tr>\n",
       "    <tr>\n",
       "      <th>291</th>\n",
       "      <td>Alexa Built-In Devices</td>\n",
       "      <td>107</td>\n",
       "    </tr>\n",
       "    <tr>\n",
       "      <th>292</th>\n",
       "      <td>Motorbike Chassis</td>\n",
       "      <td>107</td>\n",
       "    </tr>\n",
       "    <tr>\n",
       "      <th>293</th>\n",
       "      <td>Plugs</td>\n",
       "      <td>107</td>\n",
       "    </tr>\n",
       "    <tr>\n",
       "      <th>294</th>\n",
       "      <td>Smart Home Security &amp; Lighting</td>\n",
       "      <td>104</td>\n",
       "    </tr>\n",
       "    <tr>\n",
       "      <th>295</th>\n",
       "      <td>Smart Speakers</td>\n",
       "      <td>54</td>\n",
       "    </tr>\n",
       "  </tbody>\n",
       "</table>\n",
       "<p>296 rows × 2 columns</p>\n",
       "</div>"
      ],
      "text/plain": [
       "                                   category   count\n",
       "0                         Sports & Outdoors  836265\n",
       "1                                    Beauty   19312\n",
       "2    Handmade Clothing, Shoes & Accessories   19229\n",
       "3                               Bath & Body   19092\n",
       "4                            Birthday Gifts   18978\n",
       "..                                      ...     ...\n",
       "291                  Alexa Built-In Devices     107\n",
       "292                       Motorbike Chassis     107\n",
       "293                                   Plugs     107\n",
       "294          Smart Home Security & Lighting     104\n",
       "295                          Smart Speakers      54\n",
       "\n",
       "[296 rows x 2 columns]"
      ]
     },
     "execution_count": 10,
     "metadata": {},
     "output_type": "execute_result"
    }
   ],
   "source": [
    "abs_frequency_table = df[\"category\"].value_counts().reset_index()\n",
    "abs_frequency_table"
   ]
  },
  {
   "cell_type": "code",
   "execution_count": 11,
   "id": "145b9683",
   "metadata": {},
   "outputs": [
    {
     "data": {
      "text/html": [
       "<div>\n",
       "<style scoped>\n",
       "    .dataframe tbody tr th:only-of-type {\n",
       "        vertical-align: middle;\n",
       "    }\n",
       "\n",
       "    .dataframe tbody tr th {\n",
       "        vertical-align: top;\n",
       "    }\n",
       "\n",
       "    .dataframe thead th {\n",
       "        text-align: right;\n",
       "    }\n",
       "</style>\n",
       "<table border=\"1\" class=\"dataframe\">\n",
       "  <thead>\n",
       "    <tr style=\"text-align: right;\">\n",
       "      <th></th>\n",
       "      <th>category</th>\n",
       "      <th>count</th>\n",
       "    </tr>\n",
       "  </thead>\n",
       "  <tbody>\n",
       "    <tr>\n",
       "      <th>0</th>\n",
       "      <td>Sports &amp; Outdoors</td>\n",
       "      <td>836265</td>\n",
       "    </tr>\n",
       "    <tr>\n",
       "      <th>1</th>\n",
       "      <td>Beauty</td>\n",
       "      <td>19312</td>\n",
       "    </tr>\n",
       "    <tr>\n",
       "      <th>2</th>\n",
       "      <td>Handmade Clothing, Shoes &amp; Accessories</td>\n",
       "      <td>19229</td>\n",
       "    </tr>\n",
       "    <tr>\n",
       "      <th>3</th>\n",
       "      <td>Bath &amp; Body</td>\n",
       "      <td>19092</td>\n",
       "    </tr>\n",
       "    <tr>\n",
       "      <th>4</th>\n",
       "      <td>Birthday Gifts</td>\n",
       "      <td>18978</td>\n",
       "    </tr>\n",
       "  </tbody>\n",
       "</table>\n",
       "</div>"
      ],
      "text/plain": [
       "                                 category   count\n",
       "0                       Sports & Outdoors  836265\n",
       "1                                  Beauty   19312\n",
       "2  Handmade Clothing, Shoes & Accessories   19229\n",
       "3                             Bath & Body   19092\n",
       "4                          Birthday Gifts   18978"
      ]
     },
     "execution_count": 11,
     "metadata": {},
     "output_type": "execute_result"
    }
   ],
   "source": [
    "dftop5 = abs_frequency_table.head(5)\n",
    "dftop5"
   ]
  },
  {
   "cell_type": "markdown",
   "id": "9df87530",
   "metadata": {},
   "source": [
    "2. **Visualizations**:\n",
    "    - Display the distribution of products across different categories using a bar chart. *If you face problems understanding the chart, do it for a subset of top categories.*\n",
    "    - For a subset of top categories, visualize their proportions using a pie chart. Does any category dominate the listings?\n"
   ]
  },
  {
   "cell_type": "code",
   "execution_count": 12,
   "id": "9b05d162",
   "metadata": {},
   "outputs": [
    {
     "data": {
      "text/plain": [
       "[Text(0.5, 1.0, 'Distribution of products across categories')]"
      ]
     },
     "execution_count": 12,
     "metadata": {},
     "output_type": "execute_result"
    },
    {
     "data": {
      "image/png": "[encoded data removed]",
      "text/plain": [
       "<Figure size 640x480 with 1 Axes>"
      ]
     },
     "metadata": {},
     "output_type": "display_data"
    }
   ],
   "source": [
    "dftop5.set_index(\"category\")\n",
    "sns.barplot(dftop5,x=\"count\", y=\"category\", palette=\"Set2\").set(title='Distribution of products across categories')"
   ]
  },
  {
   "cell_type": "code",
   "execution_count": 13,
   "id": "9d6e086e",
   "metadata": {},
   "outputs": [
    {
     "data": {
      "image/png": "[encoded data removed]",
      "text/plain": [
       "<Figure size 640x480 with 1 Axes>"
      ]
     },
     "metadata": {},
     "output_type": "display_data"
    }
   ],
   "source": [
    "dftop5_proportion = relative_frequency_table\n",
    "dftop5_prop = dftop5_proportion.head(5)\n",
    "dftop5_prop.set_index(\"category\")\n",
    "plt.pie(dftop5_prop[\"proportion\"], labels = dftop5_prop[\"category\"], autopct='%1.1f%%', startangle=180)\n",
    "plt.show()"
   ]
  },
  {
   "cell_type": "markdown",
   "id": "6f572e15",
   "metadata": {},
   "source": [
    "### Part 2: Delving into Product Pricing"
   ]
  },
  {
   "cell_type": "markdown",
   "id": "fccf05c0",
   "metadata": {},
   "source": [
    "**Business Question**: How are products priced on Amazon UK, and are there specific price points or ranges that are more common?"
   ]
  },
  {
   "cell_type": "markdown",
   "id": "fe53bc8c",
   "metadata": {},
   "source": [
    "1. **Measures of Centrality**:\n",
    "    - Calculate the mean, median, and mode for the `price` of products.\n",
    "    - What's the average price point of products listed? How does this compare with the most common price point (mode)?"
   ]
  },
  {
   "cell_type": "code",
   "execution_count": 14,
   "id": "1764c105",
   "metadata": {},
   "outputs": [],
   "source": [
    "mean = df[\"price\"].mean()\n",
    "median = df[\"price\"].median()\n",
    "mode = df[\"price\"].mode()"
   ]
  },
  {
   "cell_type": "code",
   "execution_count": 15,
   "id": "cfabb126",
   "metadata": {},
   "outputs": [
    {
     "name": "stdout",
     "output_type": "stream",
     "text": [
      "Price mean is 89.24380943923663\n",
      "Price median is 19.09\n",
      "Price mode is 0    9.99\n",
      "Name: price, dtype: float64\n"
     ]
    }
   ],
   "source": [
    "print(f'Price mean is {mean}')\n",
    "print(f'Price median is {median}')\n",
    "print(f'Price mode is {mode}')"
   ]
  },
  {
   "cell_type": "markdown",
   "id": "8647bc4f",
   "metadata": {},
   "source": [
    "Most common price of this list is 9.99 punds per product, nevertheless the mean of price for this list of products is almost 9n Pounds (89.24) "
   ]
  },
  {
   "cell_type": "markdown",
   "id": "81380854",
   "metadata": {},
   "source": [
    "2. **Measures of Dispersion**:\n",
    "    - Determine the variance, standard deviation, range, and interquartile range for product `price`.\n",
    "    - How varied are the product prices? Are there any indicators of a significant spread in prices?"
   ]
  },
  {
   "cell_type": "code",
   "execution_count": 16,
   "id": "0083c5cf",
   "metadata": {},
   "outputs": [
    {
     "data": {
      "text/plain": [
       "count    2443651.00\n",
       "mean          89.24\n",
       "std          345.61\n",
       "min            0.00\n",
       "25%            9.99\n",
       "50%           19.09\n",
       "75%           45.99\n",
       "max       100000.00\n",
       "Name: price, dtype: float64"
      ]
     },
     "execution_count": 16,
     "metadata": {},
     "output_type": "execute_result"
    }
   ],
   "source": [
    "df[\"price\"].describe().round(2)"
   ]
  },
  {
   "cell_type": "markdown",
   "id": "812c1a8b",
   "metadata": {},
   "source": [
    "In this case, the standard deviation is approximately 345,61 Pounds. Prices prices vary around the mean price of 89.24. This suggests that there is significant variability in prices across the dataset.\n",
    "\n",
    "Interquartile Range (IQR): The interquartile range is the range between the 25th and 75th percentiles (Q1 and Q3). It represents the spread of the middle of the data.\n",
    "\n",
    "In this case:\n",
    "Therefore, the IQR is 45.99 - 9.99 = 36.00. A larger IQR suggests greater variability in the central data points\n",
    "\n",
    "Given the standard deviation, quartiles, and range, we can conclude that the dataset has a considerable spread with prices ranging from 0.00 to 100,000.00 and significant variability around the mean price.\n",
    "\n",
    "\n",
    "\n",
    "\n",
    "\n"
   ]
  },
  {
   "cell_type": "markdown",
   "id": "f1fdb00d",
   "metadata": {},
   "source": [
    "3. **Visualizations**:\n",
    "    - Is there a specific price range where most products fall? Plot a histogram to visualize the distribution of product prices. *If its hard to read these diagrams, think why this is, and explain how it could be solved.*.\n",
    "    - Are there products that are priced significantly higher than the rest? Use a box plot to showcase the spread and potential outliers in product pricing. "
   ]
  },
  {
   "cell_type": "code",
   "execution_count": 17,
   "id": "4f9a7963",
   "metadata": {},
   "outputs": [
    {
     "data": {
      "text/plain": [
       "(array([2.404517e+06, 2.645800e+04, 6.409000e+03, 2.863000e+03,\n",
       "        1.894000e+03, 6.410000e+02, 2.890000e+02, 1.940000e+02,\n",
       "        1.140000e+02, 1.030000e+02, 4.700000e+01, 3.300000e+01,\n",
       "        2.300000e+01, 2.200000e+01, 6.000000e+00, 7.000000e+00,\n",
       "        5.000000e+00, 3.000000e+00, 3.000000e+00, 7.000000e+00,\n",
       "        3.000000e+00, 5.000000e+00, 1.000000e+00, 1.000000e+00,\n",
       "        1.000000e+00, 0.000000e+00, 0.000000e+00, 0.000000e+00,\n",
       "        0.000000e+00, 0.000000e+00, 0.000000e+00, 0.000000e+00,\n",
       "        0.000000e+00, 0.000000e+00, 0.000000e+00, 0.000000e+00,\n",
       "        0.000000e+00, 0.000000e+00, 0.000000e+00, 0.000000e+00,\n",
       "        0.000000e+00, 0.000000e+00, 0.000000e+00, 0.000000e+00,\n",
       "        0.000000e+00, 0.000000e+00, 0.000000e+00, 0.000000e+00,\n",
       "        0.000000e+00, 0.000000e+00, 0.000000e+00, 0.000000e+00,\n",
       "        0.000000e+00, 0.000000e+00, 0.000000e+00, 0.000000e+00,\n",
       "        0.000000e+00, 0.000000e+00, 0.000000e+00, 0.000000e+00,\n",
       "        0.000000e+00, 0.000000e+00, 0.000000e+00, 0.000000e+00,\n",
       "        0.000000e+00, 0.000000e+00, 0.000000e+00, 0.000000e+00,\n",
       "        0.000000e+00, 0.000000e+00, 0.000000e+00, 0.000000e+00,\n",
       "        0.000000e+00, 0.000000e+00, 0.000000e+00, 0.000000e+00,\n",
       "        0.000000e+00, 1.000000e+00, 0.000000e+00, 0.000000e+00,\n",
       "        0.000000e+00, 0.000000e+00, 0.000000e+00, 0.000000e+00,\n",
       "        0.000000e+00, 0.000000e+00, 0.000000e+00, 0.000000e+00,\n",
       "        0.000000e+00, 0.000000e+00, 0.000000e+00, 0.000000e+00,\n",
       "        0.000000e+00, 0.000000e+00, 0.000000e+00, 0.000000e+00,\n",
       "        0.000000e+00, 0.000000e+00, 0.000000e+00, 1.000000e+00]),\n",
       " array([     0.,   1000.,   2000.,   3000.,   4000.,   5000.,   6000.,\n",
       "          7000.,   8000.,   9000.,  10000.,  11000.,  12000.,  13000.,\n",
       "         14000.,  15000.,  16000.,  17000.,  18000.,  19000.,  20000.,\n",
       "         21000.,  22000.,  23000.,  24000.,  25000.,  26000.,  27000.,\n",
       "         28000.,  29000.,  30000.,  31000.,  32000.,  33000.,  34000.,\n",
       "         35000.,  36000.,  37000.,  38000.,  39000.,  40000.,  41000.,\n",
       "         42000.,  43000.,  44000.,  45000.,  46000.,  47000.,  48000.,\n",
       "         49000.,  50000.,  51000.,  52000.,  53000.,  54000.,  55000.,\n",
       "         56000.,  57000.,  58000.,  59000.,  60000.,  61000.,  62000.,\n",
       "         63000.,  64000.,  65000.,  66000.,  67000.,  68000.,  69000.,\n",
       "         70000.,  71000.,  72000.,  73000.,  74000.,  75000.,  76000.,\n",
       "         77000.,  78000.,  79000.,  80000.,  81000.,  82000.,  83000.,\n",
       "         84000.,  85000.,  86000.,  87000.,  88000.,  89000.,  90000.,\n",
       "         91000.,  92000.,  93000.,  94000.,  95000.,  96000.,  97000.,\n",
       "         98000.,  99000., 100000.]),\n",
       " <BarContainer object of 100 artists>)"
      ]
     },
     "execution_count": 17,
     "metadata": {},
     "output_type": "execute_result"
    },
    {
     "data": {
      "image/png": "[encoded data removed]",
      "text/plain": [
       "<Figure size 640x480 with 1 Axes>"
      ]
     },
     "metadata": {},
     "output_type": "display_data"
    }
   ],
   "source": [
    "plt.hist(df['price'], bins=100, color='skyblue', edgecolor='black')"
   ]
  },
  {
   "cell_type": "code",
   "execution_count": 18,
   "id": "509a1cd7",
   "metadata": {},
   "outputs": [
    {
     "data": {
      "image/png": "[encoded data removed]",
      "text/plain": [
       "<Figure size 800x600 with 1 Axes>"
      ]
     },
     "metadata": {},
     "output_type": "display_data"
    }
   ],
   "source": [
    "plt.figure(figsize=(8,6))\n",
    "plt.boxplot(df['price'], patch_artist=True, notch=True, vert=0, widths=0.7, boxprops=dict(facecolor='skyblue', color='black'), medianprops=dict(color='black'))\n",
    "plt.xlabel('Price')\n",
    "plt.title('Box plot of Price')\n",
    "plt.grid(True)\n",
    "plt.show()\n"
   ]
  },
  {
   "cell_type": "markdown",
   "id": "dd58b0cc",
   "metadata": {},
   "source": [
    "### Part 3: Unpacking Product Ratings\n",
    "\n",
    "**Business Question**: How do customers rate products on Amazon UK, and are there any patterns or tendencies in the ratings?\n",
    "\n",
    "1. **Measures of Centrality**:\n",
    "    - Calculate the mean, median, and mode for the `rating` of products.\n",
    "    - How do customers generally rate products? Is there a common trend?\n"
   ]
  },
  {
   "cell_type": "code",
   "execution_count": 19,
   "id": "84684808",
   "metadata": {},
   "outputs": [],
   "source": [
    "mean_stars = df[\"stars\"].mean()\n",
    "median_stars = df[\"stars\"].median()\n",
    "mode_stars = df[\"stars\"].mode()"
   ]
  },
  {
   "cell_type": "code",
   "execution_count": 20,
   "id": "f4388359",
   "metadata": {},
   "outputs": [
    {
     "name": "stdout",
     "output_type": "stream",
     "text": [
      "Rating mean is 2.152836472966065\n",
      "Rating median is 0.0\n",
      "Rating mode is 0    0.0\n",
      "Name: stars, dtype: float64\n"
     ]
    }
   ],
   "source": [
    "print(f'Rating mean is {mean_stars}')\n",
    "print(f'Rating median is {median_stars}')\n",
    "print(f'Rating mode is {mode_stars}')"
   ]
  },
  {
   "cell_type": "markdown",
   "id": "0ad9e7af",
   "metadata": {},
   "source": [
    "The product ratio centrality measures indicate that consumers do not tend to evaluate products (mode), and if they do, their rating is a low 2.15 on a scale of 5. The median does not indicate any value of importance for this scale."
   ]
  },
  {
   "cell_type": "markdown",
   "id": "a67a117f",
   "metadata": {},
   "source": [
    "2. **Measures of Dispersion**:\n",
    "    - Determine the variance, standard deviation, and interquartile range for product `rating`.\n",
    "    - Are the ratings consistent, or is there a wide variation in customer feedback?\n"
   ]
  },
  {
   "cell_type": "code",
   "execution_count": 21,
   "id": "fce8a66d",
   "metadata": {},
   "outputs": [
    {
     "data": {
      "text/plain": [
       "count    2443651.00\n",
       "mean           2.15\n",
       "std            2.19\n",
       "min            0.00\n",
       "25%            0.00\n",
       "50%            0.00\n",
       "75%            4.40\n",
       "max            5.00\n",
       "Name: stars, dtype: float64"
      ]
     },
     "execution_count": 21,
     "metadata": {},
     "output_type": "execute_result"
    }
   ],
   "source": [
    "df[\"stars\"].describe().round(2)"
   ]
  },
  {
   "cell_type": "markdown",
   "id": "407dba7e",
   "metadata": {},
   "source": [
    "The mean is not representative.\n",
    "The distribution appears to be skewed, with a significant number of ratings clustered around 0.00 stars (as indicated by the median and possibly the 25th percentile).\n",
    "The average rating is relatively low (2.15).\n",
    "The majority of ratings fall below the maximum rating of 5.00 stars, with 75% of the ratings being 4.40 stars or below."
   ]
  },
  {
   "cell_type": "markdown",
   "id": "8052dba7",
   "metadata": {},
   "source": [
    "3. **Shape of the Distribution**:\n",
    "    - Calculate the skewness and kurtosis for the `rating` column. \n",
    "    - Are the ratings normally distributed, or do they lean towards higher or lower values?"
   ]
  },
  {
   "cell_type": "code",
   "execution_count": 22,
   "id": "cd2c15c8",
   "metadata": {},
   "outputs": [
    {
     "name": "stdout",
     "output_type": "stream",
     "text": [
      "The skewed value of rating is 0.08120735761080985\n"
     ]
    }
   ],
   "source": [
    "print(f'The skewed value of rating is {df[\"stars\"].skew()}') "
   ]
  },
  {
   "cell_type": "markdown",
   "id": "32bd6e39",
   "metadata": {},
   "source": [
    "This dataset shows a minnimal positive value for skewed indicator. It means that the distribution is being a little bit skewed to the right. \n"
   ]
  },
  {
   "cell_type": "code",
   "execution_count": 23,
   "id": "9f2dfae2",
   "metadata": {},
   "outputs": [
    {
     "name": "stdout",
     "output_type": "stream",
     "text": [
      "The kurtosis value of rating is -1.9260061280432985\n"
     ]
    }
   ],
   "source": [
    "print(f'The kurtosis value of rating is {df[\"stars\"].kurtosis()}') \n"
   ]
  },
  {
   "cell_type": "markdown",
   "id": "3eca683e",
   "metadata": {},
   "source": [
    " We have a platykurtic distribution and a negative kurtosis means that your distribution is flatter than a normal curve with the same mean and standard deviation."
   ]
  },
  {
   "cell_type": "markdown",
   "id": "192d30cd",
   "metadata": {},
   "source": [
    "4. **Visualizations**\n",
    "    - Plot a histogram to visualize the distribution of product ratings. Is there a specific rating that is more common?"
   ]
  },
  {
   "cell_type": "code",
   "execution_count": 24,
   "id": "081fd18a",
   "metadata": {
    "collapsed": true
   },
   "outputs": [
    {
     "data": {
      "text/plain": [
       "(array([1.225641e+06, 0.000000e+00, 0.000000e+00, 0.000000e+00,\n",
       "        0.000000e+00, 0.000000e+00, 0.000000e+00, 0.000000e+00,\n",
       "        0.000000e+00, 0.000000e+00, 0.000000e+00, 0.000000e+00,\n",
       "        0.000000e+00, 0.000000e+00, 0.000000e+00, 0.000000e+00,\n",
       "        0.000000e+00, 0.000000e+00, 0.000000e+00, 0.000000e+00,\n",
       "        8.484000e+03, 0.000000e+00, 3.000000e+00, 2.300000e+01,\n",
       "        0.000000e+00, 0.000000e+00, 7.800000e+01, 1.490000e+02,\n",
       "        0.000000e+00, 0.000000e+00, 4.040000e+02, 0.000000e+00,\n",
       "        1.470000e+02, 1.770000e+02, 0.000000e+00, 0.000000e+00,\n",
       "        2.490000e+02, 3.000000e+02, 0.000000e+00, 0.000000e+00,\n",
       "        3.901000e+03, 0.000000e+00, 5.400000e+02, 0.000000e+00,\n",
       "        6.020000e+02, 7.340000e+02, 0.000000e+00, 1.060000e+03,\n",
       "        0.000000e+00, 0.000000e+00, 2.103000e+03, 0.000000e+00,\n",
       "        1.579000e+03, 0.000000e+00, 2.104000e+03, 2.306000e+03,\n",
       "        0.000000e+00, 3.341000e+03, 0.000000e+00, 0.000000e+00,\n",
       "        1.281900e+04, 0.000000e+00, 4.679000e+03, 0.000000e+00,\n",
       "        5.771000e+03, 8.269000e+03, 0.000000e+00, 1.035500e+04,\n",
       "        0.000000e+00, 0.000000e+00, 1.467300e+04, 0.000000e+00,\n",
       "        1.621900e+04, 0.000000e+00, 2.113700e+04, 2.787600e+04,\n",
       "        0.000000e+00, 3.655500e+04, 0.000000e+00, 0.000000e+00,\n",
       "        6.608900e+04, 6.511500e+04, 0.000000e+00, 0.000000e+00,\n",
       "        8.687100e+04, 0.000000e+00, 1.125640e+05, 0.000000e+00,\n",
       "        1.361650e+05, 0.000000e+00, 1.515770e+05, 1.369950e+05,\n",
       "        0.000000e+00, 0.000000e+00, 9.456600e+04, 4.185800e+04,\n",
       "        0.000000e+00, 0.000000e+00, 1.108100e+04, 1.284920e+05]),\n",
       " array([0.  , 0.05, 0.1 , 0.15, 0.2 , 0.25, 0.3 , 0.35, 0.4 , 0.45, 0.5 ,\n",
       "        0.55, 0.6 , 0.65, 0.7 , 0.75, 0.8 , 0.85, 0.9 , 0.95, 1.  , 1.05,\n",
       "        1.1 , 1.15, 1.2 , 1.25, 1.3 , 1.35, 1.4 , 1.45, 1.5 , 1.55, 1.6 ,\n",
       "        1.65, 1.7 , 1.75, 1.8 , 1.85, 1.9 , 1.95, 2.  , 2.05, 2.1 , 2.15,\n",
       "        2.2 , 2.25, 2.3 , 2.35, 2.4 , 2.45, 2.5 , 2.55, 2.6 , 2.65, 2.7 ,\n",
       "        2.75, 2.8 , 2.85, 2.9 , 2.95, 3.  , 3.05, 3.1 , 3.15, 3.2 , 3.25,\n",
       "        3.3 , 3.35, 3.4 , 3.45, 3.5 , 3.55, 3.6 , 3.65, 3.7 , 3.75, 3.8 ,\n",
       "        3.85, 3.9 , 3.95, 4.  , 4.05, 4.1 , 4.15, 4.2 , 4.25, 4.3 , 4.35,\n",
       "        4.4 , 4.45, 4.5 , 4.55, 4.6 , 4.65, 4.7 , 4.75, 4.8 , 4.85, 4.9 ,\n",
       "        4.95, 5.  ]),\n",
       " <BarContainer object of 100 artists>)"
      ]
     },
     "execution_count": 24,
     "metadata": {},
     "output_type": "execute_result"
    },
    {
     "data": {
      "image/png": "[encoded data removed]",
      "text/plain": [
       "<Figure size 640x480 with 1 Axes>"
      ]
     },
     "metadata": {},
     "output_type": "display_data"
    }
   ],
   "source": [
    "plt.hist(df['stars'], bins=100, color='skyblue', edgecolor='black')"
   ]
  }
 ],
 "metadata": {
  "kernelspec": {
   "display_name": "Python 3 (ipykernel)",
   "language": "python",
   "name": "python3"
  },
  "language_info": {
   "codemirror_mode": {
    "name": "ipython",
    "version": 3
   },
   "file_extension": ".py",
   "mimetype": "text/x-python",
   "name": "python",
   "nbconvert_exporter": "python",
   "pygments_lexer": "ipython3",
   "version": "3.11.5"
  }
 },
 "nbformat": 4,
 "nbformat_minor": 5
}
